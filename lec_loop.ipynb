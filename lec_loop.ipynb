{
 "cells": [
  {
   "cell_type": "code",
   "execution_count": 4,
   "metadata": {},
   "outputs": [
    {
     "name": "stdout",
     "output_type": "stream",
     "text": [
      "Batel\n",
      "B\n",
      "a\n",
      "t\n",
      "e\n",
      "l\n",
      "Nakyal\n",
      "N\n",
      "a\n",
      "k\n",
      "y\n",
      "a\n",
      "l\n",
      "Sialkot\n",
      "S\n",
      "i\n",
      "a\n",
      "l\n",
      "k\n",
      "o\n",
      "t\n",
      "Kotli\n",
      "K\n",
      "o\n",
      "t\n",
      "l\n",
      "i\n"
     ]
    }
   ],
   "source": [
    "mydic = {\n",
    "    'Bazer':'Batel',\n",
    "    'Haider':'Nakyal',\n",
    "    'Sajid':'Sialkot',\n",
    "    'Ahsan':'Kotli',\n",
    "}\n",
    "for rec in mydic.values():\n",
    "    print(rec)\n",
    "    for char in rec:\n",
    "        print(char)"
   ]
  }
 ],
 "metadata": {
  "kernelspec": {
   "display_name": "Python 3",
   "language": "python",
   "name": "python3"
  },
  "language_info": {
   "codemirror_mode": {
    "name": "ipython",
    "version": 3
   },
   "file_extension": ".py",
   "mimetype": "text/x-python",
   "name": "python",
   "nbconvert_exporter": "python",
   "pygments_lexer": "ipython3",
   "version": "3.11.6"
  }
 },
 "nbformat": 4,
 "nbformat_minor": 2
}
