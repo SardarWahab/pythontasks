{
 "cells": [
  {
   "cell_type": "markdown",
   "metadata": {},
   "source": [
    "#Nested Loop\n",
    "\n"
   ]
  },
  {
   "cell_type": "code",
   "execution_count": 4,
   "metadata": {},
   "outputs": [
    {
     "name": "stdout",
     "output_type": "stream",
     "text": [
      "True\n",
      "False\n"
     ]
    }
   ],
   "source": [
    "num = int(input(\"Enter Number:\"))\n",
    "if num > 50:\n",
    "    print('True')\n",
    "    if num < 100:\n",
    "        print('it is true number')\n",
    "    else:\n",
    "         print(\"False\")"
   ]
  },
  {
   "cell_type": "markdown",
   "metadata": {},
   "source": [
    "List"
   ]
  },
  {
   "cell_type": "code",
   "execution_count": 15,
   "metadata": {},
   "outputs": [
    {
     "name": "stdout",
     "output_type": "stream",
     "text": [
      "The Ahmad that we find exist in the list\n"
     ]
    }
   ],
   "source": [
    "li = ['Ahmad','Ali','Usman','Zeshan','Bazer']\n",
    "name = input(\"Enter a name:\")\n",
    "if name in li:\n",
    "    print(f\"The {name} that we find exist in the list\")\n",
    "else:\n",
    "    new_name = input(\"Are you want to add :\")   \n",
    "    if new_name == \"yes\":\n",
    "         li.append(name)\n",
    "         print(li)\n",
    "    else:\n",
    "        print(\"No, I do not want to add....\")\n",
    "\n",
    "           "
   ]
  },
  {
   "cell_type": "markdown",
   "metadata": {},
   "source": [
    "Student Record"
   ]
  },
  {
   "cell_type": "code",
   "execution_count": 27,
   "metadata": {},
   "outputs": [
    {
     "name": "stdout",
     "output_type": "stream",
     "text": [
      "It is true\n",
      "Here is your ahmad130@gmail.com and Mandhole\n"
     ]
    }
   ],
   "source": [
    "record = {\n",
    "    'username':'Ahmad',\n",
    "    'Password':'ahmad123',\n",
    "    'email':'ahmad130@gmail.com',\n",
    "    'address':'Mandhole'\n",
    "}\n",
    "u_name = input(\"Enter your user name\")\n",
    "if u_name ==  record['username']:\n",
    "    print('It is true')\n",
    "    n_pass = input(\"Please Enter password\")\n",
    "    if n_pass == record['Password']:\n",
    "      print(f\"Here is your {record['email']} and {record['address']}\")  \n",
    "    else:\n",
    "       print(\"Password is incorrect\")\n",
    "\n",
    "else:\n",
    "   print(\"User name is incorrect\")"
   ]
  },
  {
   "cell_type": "code",
   "execution_count": 52,
   "metadata": {},
   "outputs": [
    {
     "name": "stdout",
     "output_type": "stream",
     "text": [
      "Yes it is exist\n"
     ]
    },
    {
     "ename": "KeyError",
     "evalue": "'Passwrod'",
     "output_type": "error",
     "traceback": [
      "\u001b[1;31m---------------------------------------------------------------------------\u001b[0m",
      "\u001b[1;31mKeyError\u001b[0m                                  Traceback (most recent call last)",
      "Cell \u001b[1;32mIn[52], line 25\u001b[0m\n\u001b[0;32m     23\u001b[0m \u001b[38;5;28mprint\u001b[39m(\u001b[38;5;124m'\u001b[39m\u001b[38;5;124mYes it is exist\u001b[39m\u001b[38;5;124m'\u001b[39m)\n\u001b[0;32m     24\u001b[0m n_pass \u001b[38;5;241m=\u001b[39m \u001b[38;5;28minput\u001b[39m(\u001b[38;5;124m\"\u001b[39m\u001b[38;5;124mPlease Enter password\u001b[39m\u001b[38;5;124m\"\u001b[39m) \n\u001b[1;32m---> 25\u001b[0m \u001b[38;5;28;01mif\u001b[39;00m n_pass \u001b[38;5;241m==\u001b[39m \u001b[43mrecord1\u001b[49m\u001b[43m[\u001b[49m\u001b[43mname\u001b[49m\u001b[43m]\u001b[49m\u001b[43m[\u001b[49m\u001b[38;5;124;43m'\u001b[39;49m\u001b[38;5;124;43mPasswrod\u001b[39;49m\u001b[38;5;124;43m'\u001b[39;49m\u001b[43m]\u001b[49m :\n\u001b[0;32m     26\u001b[0m  \u001b[38;5;28mprint\u001b[39m(record1[name])\n",
      "\u001b[1;31mKeyError\u001b[0m: 'Passwrod'"
     ]
    }
   ],
   "source": [
    "record1 = {\n",
    "    'Ahmad':{\n",
    "    'username':'Ahmad',\n",
    "    'Password':'ahmad123',\n",
    "    'email':'ahmad130@gmail.com',\n",
    "    'address':'Mandhole'\n",
    "},\n",
    " 'Bazer': {\n",
    "    'username':'Bazer',\n",
    "    'Password':'baer123',\n",
    "    'email':'bazer130@gmail.com',\n",
    "    'address':'Mandhole'\n",
    "},\n",
    " 'Usman':{\n",
    "    'username':'Usman',\n",
    "    'Password':'usman123',\n",
    "    'email':'usman130@gmail.com',\n",
    "    'address':'Mandhole'\n",
    "}\n",
    "}\n",
    "u_name = input(\"Enter your user name\")\n",
    "if u_name in record1.keys():\n",
    "    print('Yes it is exist')\n",
    "    n_pass = input(\"Please Enter password\") \n",
    "    if n_pass == record1[name]['Passwrod'] :\n",
    "     print(record1[name])\n",
    "\n"
   ]
  }
 ],
 "metadata": {
  "kernelspec": {
   "display_name": "Python 3",
   "language": "python",
   "name": "python3"
  },
  "language_info": {
   "codemirror_mode": {
    "name": "ipython",
    "version": 3
   },
   "file_extension": ".py",
   "mimetype": "text/x-python",
   "name": "python",
   "nbconvert_exporter": "python",
   "pygments_lexer": "ipython3",
   "version": "3.11.6"
  }
 },
 "nbformat": 4,
 "nbformat_minor": 2
}
